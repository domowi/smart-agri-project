{
 "cells": [
  {
   "cell_type": "code",
   "execution_count": 1,
   "metadata": {},
   "outputs": [
    {
     "ename": "ConnectionError",
     "evalue": "HTTPSConnectionPool(host='countries.trevorblades.com', port=443): Max retries exceeded with url: / (Caused by NewConnectionError('<urllib3.connection.VerifiedHTTPSConnection object at 0x0000028E55993C50>: Failed to establish a new connection: [Errno 11001] getaddrinfo failed',))",
     "output_type": "error",
     "traceback": [
      "\u001b[1;31m---------------------------------------------------------------------------\u001b[0m",
      "\u001b[1;31mgaierror\u001b[0m                                  Traceback (most recent call last)",
      "\u001b[1;32m~\\AppData\\Local\\Continuum\\anaconda3\\lib\\site-packages\\urllib3\\connection.py\u001b[0m in \u001b[0;36m_new_conn\u001b[1;34m(self)\u001b[0m\n\u001b[0;32m    140\u001b[0m             conn = connection.create_connection(\n\u001b[1;32m--> 141\u001b[1;33m                 (self.host, self.port), self.timeout, **extra_kw)\n\u001b[0m\u001b[0;32m    142\u001b[0m \u001b[1;33m\u001b[0m\u001b[0m\n",
      "\u001b[1;32m~\\AppData\\Local\\Continuum\\anaconda3\\lib\\site-packages\\urllib3\\util\\connection.py\u001b[0m in \u001b[0;36mcreate_connection\u001b[1;34m(address, timeout, source_address, socket_options)\u001b[0m\n\u001b[0;32m     59\u001b[0m \u001b[1;33m\u001b[0m\u001b[0m\n\u001b[1;32m---> 60\u001b[1;33m     \u001b[1;32mfor\u001b[0m \u001b[0mres\u001b[0m \u001b[1;32min\u001b[0m \u001b[0msocket\u001b[0m\u001b[1;33m.\u001b[0m\u001b[0mgetaddrinfo\u001b[0m\u001b[1;33m(\u001b[0m\u001b[0mhost\u001b[0m\u001b[1;33m,\u001b[0m \u001b[0mport\u001b[0m\u001b[1;33m,\u001b[0m \u001b[0mfamily\u001b[0m\u001b[1;33m,\u001b[0m \u001b[0msocket\u001b[0m\u001b[1;33m.\u001b[0m\u001b[0mSOCK_STREAM\u001b[0m\u001b[1;33m)\u001b[0m\u001b[1;33m:\u001b[0m\u001b[1;33m\u001b[0m\u001b[0m\n\u001b[0m\u001b[0;32m     61\u001b[0m         \u001b[0maf\u001b[0m\u001b[1;33m,\u001b[0m \u001b[0msocktype\u001b[0m\u001b[1;33m,\u001b[0m \u001b[0mproto\u001b[0m\u001b[1;33m,\u001b[0m \u001b[0mcanonname\u001b[0m\u001b[1;33m,\u001b[0m \u001b[0msa\u001b[0m \u001b[1;33m=\u001b[0m \u001b[0mres\u001b[0m\u001b[1;33m\u001b[0m\u001b[0m\n",
      "\u001b[1;32m~\\AppData\\Local\\Continuum\\anaconda3\\lib\\socket.py\u001b[0m in \u001b[0;36mgetaddrinfo\u001b[1;34m(host, port, family, type, proto, flags)\u001b[0m\n\u001b[0;32m    744\u001b[0m     \u001b[0maddrlist\u001b[0m \u001b[1;33m=\u001b[0m \u001b[1;33m[\u001b[0m\u001b[1;33m]\u001b[0m\u001b[1;33m\u001b[0m\u001b[0m\n\u001b[1;32m--> 745\u001b[1;33m     \u001b[1;32mfor\u001b[0m \u001b[0mres\u001b[0m \u001b[1;32min\u001b[0m \u001b[0m_socket\u001b[0m\u001b[1;33m.\u001b[0m\u001b[0mgetaddrinfo\u001b[0m\u001b[1;33m(\u001b[0m\u001b[0mhost\u001b[0m\u001b[1;33m,\u001b[0m \u001b[0mport\u001b[0m\u001b[1;33m,\u001b[0m \u001b[0mfamily\u001b[0m\u001b[1;33m,\u001b[0m \u001b[0mtype\u001b[0m\u001b[1;33m,\u001b[0m \u001b[0mproto\u001b[0m\u001b[1;33m,\u001b[0m \u001b[0mflags\u001b[0m\u001b[1;33m)\u001b[0m\u001b[1;33m:\u001b[0m\u001b[1;33m\u001b[0m\u001b[0m\n\u001b[0m\u001b[0;32m    746\u001b[0m         \u001b[0maf\u001b[0m\u001b[1;33m,\u001b[0m \u001b[0msocktype\u001b[0m\u001b[1;33m,\u001b[0m \u001b[0mproto\u001b[0m\u001b[1;33m,\u001b[0m \u001b[0mcanonname\u001b[0m\u001b[1;33m,\u001b[0m \u001b[0msa\u001b[0m \u001b[1;33m=\u001b[0m \u001b[0mres\u001b[0m\u001b[1;33m\u001b[0m\u001b[0m\n",
      "\u001b[1;31mgaierror\u001b[0m: [Errno 11001] getaddrinfo failed",
      "\nDuring handling of the above exception, another exception occurred:\n",
      "\u001b[1;31mNewConnectionError\u001b[0m                        Traceback (most recent call last)",
      "\u001b[1;32m~\\AppData\\Local\\Continuum\\anaconda3\\lib\\site-packages\\urllib3\\connectionpool.py\u001b[0m in \u001b[0;36murlopen\u001b[1;34m(self, method, url, body, headers, retries, redirect, assert_same_host, timeout, pool_timeout, release_conn, chunked, body_pos, **response_kw)\u001b[0m\n\u001b[0;32m    600\u001b[0m                                                   \u001b[0mbody\u001b[0m\u001b[1;33m=\u001b[0m\u001b[0mbody\u001b[0m\u001b[1;33m,\u001b[0m \u001b[0mheaders\u001b[0m\u001b[1;33m=\u001b[0m\u001b[0mheaders\u001b[0m\u001b[1;33m,\u001b[0m\u001b[1;33m\u001b[0m\u001b[0m\n\u001b[1;32m--> 601\u001b[1;33m                                                   chunked=chunked)\n\u001b[0m\u001b[0;32m    602\u001b[0m \u001b[1;33m\u001b[0m\u001b[0m\n",
      "\u001b[1;32m~\\AppData\\Local\\Continuum\\anaconda3\\lib\\site-packages\\urllib3\\connectionpool.py\u001b[0m in \u001b[0;36m_make_request\u001b[1;34m(self, conn, method, url, timeout, chunked, **httplib_request_kw)\u001b[0m\n\u001b[0;32m    345\u001b[0m         \u001b[1;32mtry\u001b[0m\u001b[1;33m:\u001b[0m\u001b[1;33m\u001b[0m\u001b[0m\n\u001b[1;32m--> 346\u001b[1;33m             \u001b[0mself\u001b[0m\u001b[1;33m.\u001b[0m\u001b[0m_validate_conn\u001b[0m\u001b[1;33m(\u001b[0m\u001b[0mconn\u001b[0m\u001b[1;33m)\u001b[0m\u001b[1;33m\u001b[0m\u001b[0m\n\u001b[0m\u001b[0;32m    347\u001b[0m         \u001b[1;32mexcept\u001b[0m \u001b[1;33m(\u001b[0m\u001b[0mSocketTimeout\u001b[0m\u001b[1;33m,\u001b[0m \u001b[0mBaseSSLError\u001b[0m\u001b[1;33m)\u001b[0m \u001b[1;32mas\u001b[0m \u001b[0me\u001b[0m\u001b[1;33m:\u001b[0m\u001b[1;33m\u001b[0m\u001b[0m\n",
      "\u001b[1;32m~\\AppData\\Local\\Continuum\\anaconda3\\lib\\site-packages\\urllib3\\connectionpool.py\u001b[0m in \u001b[0;36m_validate_conn\u001b[1;34m(self, conn)\u001b[0m\n\u001b[0;32m    849\u001b[0m         \u001b[1;32mif\u001b[0m \u001b[1;32mnot\u001b[0m \u001b[0mgetattr\u001b[0m\u001b[1;33m(\u001b[0m\u001b[0mconn\u001b[0m\u001b[1;33m,\u001b[0m \u001b[1;34m'sock'\u001b[0m\u001b[1;33m,\u001b[0m \u001b[1;32mNone\u001b[0m\u001b[1;33m)\u001b[0m\u001b[1;33m:\u001b[0m  \u001b[1;31m# AppEngine might not have  `.sock`\u001b[0m\u001b[1;33m\u001b[0m\u001b[0m\n\u001b[1;32m--> 850\u001b[1;33m             \u001b[0mconn\u001b[0m\u001b[1;33m.\u001b[0m\u001b[0mconnect\u001b[0m\u001b[1;33m(\u001b[0m\u001b[1;33m)\u001b[0m\u001b[1;33m\u001b[0m\u001b[0m\n\u001b[0m\u001b[0;32m    851\u001b[0m \u001b[1;33m\u001b[0m\u001b[0m\n",
      "\u001b[1;32m~\\AppData\\Local\\Continuum\\anaconda3\\lib\\site-packages\\urllib3\\connection.py\u001b[0m in \u001b[0;36mconnect\u001b[1;34m(self)\u001b[0m\n\u001b[0;32m    283\u001b[0m         \u001b[1;31m# Add certificate verification\u001b[0m\u001b[1;33m\u001b[0m\u001b[1;33m\u001b[0m\u001b[0m\n\u001b[1;32m--> 284\u001b[1;33m         \u001b[0mconn\u001b[0m \u001b[1;33m=\u001b[0m \u001b[0mself\u001b[0m\u001b[1;33m.\u001b[0m\u001b[0m_new_conn\u001b[0m\u001b[1;33m(\u001b[0m\u001b[1;33m)\u001b[0m\u001b[1;33m\u001b[0m\u001b[0m\n\u001b[0m\u001b[0;32m    285\u001b[0m \u001b[1;33m\u001b[0m\u001b[0m\n",
      "\u001b[1;32m~\\AppData\\Local\\Continuum\\anaconda3\\lib\\site-packages\\urllib3\\connection.py\u001b[0m in \u001b[0;36m_new_conn\u001b[1;34m(self)\u001b[0m\n\u001b[0;32m    149\u001b[0m             raise NewConnectionError(\n\u001b[1;32m--> 150\u001b[1;33m                 self, \"Failed to establish a new connection: %s\" % e)\n\u001b[0m\u001b[0;32m    151\u001b[0m \u001b[1;33m\u001b[0m\u001b[0m\n",
      "\u001b[1;31mNewConnectionError\u001b[0m: <urllib3.connection.VerifiedHTTPSConnection object at 0x0000028E55993C50>: Failed to establish a new connection: [Errno 11001] getaddrinfo failed",
      "\nDuring handling of the above exception, another exception occurred:\n",
      "\u001b[1;31mMaxRetryError\u001b[0m                             Traceback (most recent call last)",
      "\u001b[1;32m~\\AppData\\Local\\Continuum\\anaconda3\\lib\\site-packages\\requests\\adapters.py\u001b[0m in \u001b[0;36msend\u001b[1;34m(self, request, stream, timeout, verify, cert, proxies)\u001b[0m\n\u001b[0;32m    448\u001b[0m                     \u001b[0mretries\u001b[0m\u001b[1;33m=\u001b[0m\u001b[0mself\u001b[0m\u001b[1;33m.\u001b[0m\u001b[0mmax_retries\u001b[0m\u001b[1;33m,\u001b[0m\u001b[1;33m\u001b[0m\u001b[0m\n\u001b[1;32m--> 449\u001b[1;33m                     \u001b[0mtimeout\u001b[0m\u001b[1;33m=\u001b[0m\u001b[0mtimeout\u001b[0m\u001b[1;33m\u001b[0m\u001b[0m\n\u001b[0m\u001b[0;32m    450\u001b[0m                 )\n",
      "\u001b[1;32m~\\AppData\\Local\\Continuum\\anaconda3\\lib\\site-packages\\urllib3\\connectionpool.py\u001b[0m in \u001b[0;36murlopen\u001b[1;34m(self, method, url, body, headers, retries, redirect, assert_same_host, timeout, pool_timeout, release_conn, chunked, body_pos, **response_kw)\u001b[0m\n\u001b[0;32m    638\u001b[0m             retries = retries.increment(method, url, error=e, _pool=self,\n\u001b[1;32m--> 639\u001b[1;33m                                         _stacktrace=sys.exc_info()[2])\n\u001b[0m\u001b[0;32m    640\u001b[0m             \u001b[0mretries\u001b[0m\u001b[1;33m.\u001b[0m\u001b[0msleep\u001b[0m\u001b[1;33m(\u001b[0m\u001b[1;33m)\u001b[0m\u001b[1;33m\u001b[0m\u001b[0m\n",
      "\u001b[1;32m~\\AppData\\Local\\Continuum\\anaconda3\\lib\\site-packages\\urllib3\\util\\retry.py\u001b[0m in \u001b[0;36mincrement\u001b[1;34m(self, method, url, response, error, _pool, _stacktrace)\u001b[0m\n\u001b[0;32m    387\u001b[0m         \u001b[1;32mif\u001b[0m \u001b[0mnew_retry\u001b[0m\u001b[1;33m.\u001b[0m\u001b[0mis_exhausted\u001b[0m\u001b[1;33m(\u001b[0m\u001b[1;33m)\u001b[0m\u001b[1;33m:\u001b[0m\u001b[1;33m\u001b[0m\u001b[0m\n\u001b[1;32m--> 388\u001b[1;33m             \u001b[1;32mraise\u001b[0m \u001b[0mMaxRetryError\u001b[0m\u001b[1;33m(\u001b[0m\u001b[0m_pool\u001b[0m\u001b[1;33m,\u001b[0m \u001b[0murl\u001b[0m\u001b[1;33m,\u001b[0m \u001b[0merror\u001b[0m \u001b[1;32mor\u001b[0m \u001b[0mResponseError\u001b[0m\u001b[1;33m(\u001b[0m\u001b[0mcause\u001b[0m\u001b[1;33m)\u001b[0m\u001b[1;33m)\u001b[0m\u001b[1;33m\u001b[0m\u001b[0m\n\u001b[0m\u001b[0;32m    389\u001b[0m \u001b[1;33m\u001b[0m\u001b[0m\n",
      "\u001b[1;31mMaxRetryError\u001b[0m: HTTPSConnectionPool(host='countries.trevorblades.com', port=443): Max retries exceeded with url: / (Caused by NewConnectionError('<urllib3.connection.VerifiedHTTPSConnection object at 0x0000028E55993C50>: Failed to establish a new connection: [Errno 11001] getaddrinfo failed',))",
      "\nDuring handling of the above exception, another exception occurred:\n",
      "\u001b[1;31mConnectionError\u001b[0m                           Traceback (most recent call last)",
      "\u001b[1;32m<ipython-input-1-96b11cb00cc7>\u001b[0m in \u001b[0;36m<module>\u001b[1;34m()\u001b[0m\n\u001b[0;32m     16\u001b[0m \u001b[1;33m\u001b[0m\u001b[0m\n\u001b[0;32m     17\u001b[0m \u001b[1;31m# Synchronous request\u001b[0m\u001b[1;33m\u001b[0m\u001b[1;33m\u001b[0m\u001b[0m\n\u001b[1;32m---> 18\u001b[1;33m \u001b[0mdata\u001b[0m \u001b[1;33m=\u001b[0m \u001b[0mclient\u001b[0m\u001b[1;33m.\u001b[0m\u001b[0mexecute\u001b[0m\u001b[1;33m(\u001b[0m\u001b[0mquery\u001b[0m\u001b[1;33m=\u001b[0m\u001b[0mquery\u001b[0m\u001b[1;33m,\u001b[0m \u001b[0mvariables\u001b[0m\u001b[1;33m=\u001b[0m\u001b[0mvariables\u001b[0m\u001b[1;33m)\u001b[0m\u001b[1;33m\u001b[0m\u001b[0m\n\u001b[0m\u001b[0;32m     19\u001b[0m \u001b[0mprint\u001b[0m\u001b[1;33m(\u001b[0m\u001b[0mdata\u001b[0m\u001b[1;33m)\u001b[0m  \u001b[1;31m# => {'data': {'country': {'code': 'CA', 'name': 'Canada'}}}\u001b[0m\u001b[1;33m\u001b[0m\u001b[0m\n\u001b[0;32m     20\u001b[0m \u001b[1;33m\u001b[0m\u001b[0m\n",
      "\u001b[1;32m~\\AppData\\Local\\Continuum\\anaconda3\\lib\\site-packages\\python_graphql_client\\graphql_client.py\u001b[0m in \u001b[0;36mexecute\u001b[1;34m(self, query, variables, operation_name, headers)\u001b[0m\n\u001b[0;32m     50\u001b[0m             \u001b[0mself\u001b[0m\u001b[1;33m.\u001b[0m\u001b[0mendpoint\u001b[0m\u001b[1;33m,\u001b[0m\u001b[1;33m\u001b[0m\u001b[0m\n\u001b[0;32m     51\u001b[0m             \u001b[0mjson\u001b[0m\u001b[1;33m=\u001b[0m\u001b[0mrequest_body\u001b[0m\u001b[1;33m,\u001b[0m\u001b[1;33m\u001b[0m\u001b[0m\n\u001b[1;32m---> 52\u001b[1;33m             \u001b[0mheaders\u001b[0m\u001b[1;33m=\u001b[0m\u001b[0mself\u001b[0m\u001b[1;33m.\u001b[0m\u001b[0m__request_headers\u001b[0m\u001b[1;33m(\u001b[0m\u001b[0mheaders\u001b[0m\u001b[1;33m)\u001b[0m\u001b[1;33m,\u001b[0m\u001b[1;33m\u001b[0m\u001b[0m\n\u001b[0m\u001b[0;32m     53\u001b[0m         )\n\u001b[0;32m     54\u001b[0m \u001b[1;33m\u001b[0m\u001b[0m\n",
      "\u001b[1;32m~\\AppData\\Local\\Continuum\\anaconda3\\lib\\site-packages\\requests\\api.py\u001b[0m in \u001b[0;36mpost\u001b[1;34m(url, data, json, **kwargs)\u001b[0m\n\u001b[0;32m    114\u001b[0m     \"\"\"\n\u001b[0;32m    115\u001b[0m \u001b[1;33m\u001b[0m\u001b[0m\n\u001b[1;32m--> 116\u001b[1;33m     \u001b[1;32mreturn\u001b[0m \u001b[0mrequest\u001b[0m\u001b[1;33m(\u001b[0m\u001b[1;34m'post'\u001b[0m\u001b[1;33m,\u001b[0m \u001b[0murl\u001b[0m\u001b[1;33m,\u001b[0m \u001b[0mdata\u001b[0m\u001b[1;33m=\u001b[0m\u001b[0mdata\u001b[0m\u001b[1;33m,\u001b[0m \u001b[0mjson\u001b[0m\u001b[1;33m=\u001b[0m\u001b[0mjson\u001b[0m\u001b[1;33m,\u001b[0m \u001b[1;33m**\u001b[0m\u001b[0mkwargs\u001b[0m\u001b[1;33m)\u001b[0m\u001b[1;33m\u001b[0m\u001b[0m\n\u001b[0m\u001b[0;32m    117\u001b[0m \u001b[1;33m\u001b[0m\u001b[0m\n\u001b[0;32m    118\u001b[0m \u001b[1;33m\u001b[0m\u001b[0m\n",
      "\u001b[1;32m~\\AppData\\Local\\Continuum\\anaconda3\\lib\\site-packages\\requests\\api.py\u001b[0m in \u001b[0;36mrequest\u001b[1;34m(method, url, **kwargs)\u001b[0m\n\u001b[0;32m     58\u001b[0m     \u001b[1;31m# cases, and look like a memory leak in others.\u001b[0m\u001b[1;33m\u001b[0m\u001b[1;33m\u001b[0m\u001b[0m\n\u001b[0;32m     59\u001b[0m     \u001b[1;32mwith\u001b[0m \u001b[0msessions\u001b[0m\u001b[1;33m.\u001b[0m\u001b[0mSession\u001b[0m\u001b[1;33m(\u001b[0m\u001b[1;33m)\u001b[0m \u001b[1;32mas\u001b[0m \u001b[0msession\u001b[0m\u001b[1;33m:\u001b[0m\u001b[1;33m\u001b[0m\u001b[0m\n\u001b[1;32m---> 60\u001b[1;33m         \u001b[1;32mreturn\u001b[0m \u001b[0msession\u001b[0m\u001b[1;33m.\u001b[0m\u001b[0mrequest\u001b[0m\u001b[1;33m(\u001b[0m\u001b[0mmethod\u001b[0m\u001b[1;33m=\u001b[0m\u001b[0mmethod\u001b[0m\u001b[1;33m,\u001b[0m \u001b[0murl\u001b[0m\u001b[1;33m=\u001b[0m\u001b[0murl\u001b[0m\u001b[1;33m,\u001b[0m \u001b[1;33m**\u001b[0m\u001b[0mkwargs\u001b[0m\u001b[1;33m)\u001b[0m\u001b[1;33m\u001b[0m\u001b[0m\n\u001b[0m\u001b[0;32m     61\u001b[0m \u001b[1;33m\u001b[0m\u001b[0m\n\u001b[0;32m     62\u001b[0m \u001b[1;33m\u001b[0m\u001b[0m\n",
      "\u001b[1;32m~\\AppData\\Local\\Continuum\\anaconda3\\lib\\site-packages\\requests\\sessions.py\u001b[0m in \u001b[0;36mrequest\u001b[1;34m(self, method, url, params, data, headers, cookies, files, auth, timeout, allow_redirects, proxies, hooks, stream, verify, cert, json)\u001b[0m\n\u001b[0;32m    531\u001b[0m         }\n\u001b[0;32m    532\u001b[0m         \u001b[0msend_kwargs\u001b[0m\u001b[1;33m.\u001b[0m\u001b[0mupdate\u001b[0m\u001b[1;33m(\u001b[0m\u001b[0msettings\u001b[0m\u001b[1;33m)\u001b[0m\u001b[1;33m\u001b[0m\u001b[0m\n\u001b[1;32m--> 533\u001b[1;33m         \u001b[0mresp\u001b[0m \u001b[1;33m=\u001b[0m \u001b[0mself\u001b[0m\u001b[1;33m.\u001b[0m\u001b[0msend\u001b[0m\u001b[1;33m(\u001b[0m\u001b[0mprep\u001b[0m\u001b[1;33m,\u001b[0m \u001b[1;33m**\u001b[0m\u001b[0msend_kwargs\u001b[0m\u001b[1;33m)\u001b[0m\u001b[1;33m\u001b[0m\u001b[0m\n\u001b[0m\u001b[0;32m    534\u001b[0m \u001b[1;33m\u001b[0m\u001b[0m\n\u001b[0;32m    535\u001b[0m         \u001b[1;32mreturn\u001b[0m \u001b[0mresp\u001b[0m\u001b[1;33m\u001b[0m\u001b[0m\n",
      "\u001b[1;32m~\\AppData\\Local\\Continuum\\anaconda3\\lib\\site-packages\\requests\\sessions.py\u001b[0m in \u001b[0;36msend\u001b[1;34m(self, request, **kwargs)\u001b[0m\n\u001b[0;32m    644\u001b[0m \u001b[1;33m\u001b[0m\u001b[0m\n\u001b[0;32m    645\u001b[0m         \u001b[1;31m# Send the request\u001b[0m\u001b[1;33m\u001b[0m\u001b[1;33m\u001b[0m\u001b[0m\n\u001b[1;32m--> 646\u001b[1;33m         \u001b[0mr\u001b[0m \u001b[1;33m=\u001b[0m \u001b[0madapter\u001b[0m\u001b[1;33m.\u001b[0m\u001b[0msend\u001b[0m\u001b[1;33m(\u001b[0m\u001b[0mrequest\u001b[0m\u001b[1;33m,\u001b[0m \u001b[1;33m**\u001b[0m\u001b[0mkwargs\u001b[0m\u001b[1;33m)\u001b[0m\u001b[1;33m\u001b[0m\u001b[0m\n\u001b[0m\u001b[0;32m    647\u001b[0m \u001b[1;33m\u001b[0m\u001b[0m\n\u001b[0;32m    648\u001b[0m         \u001b[1;31m# Total elapsed time of the request (approximately)\u001b[0m\u001b[1;33m\u001b[0m\u001b[1;33m\u001b[0m\u001b[0m\n",
      "\u001b[1;32m~\\AppData\\Local\\Continuum\\anaconda3\\lib\\site-packages\\requests\\adapters.py\u001b[0m in \u001b[0;36msend\u001b[1;34m(self, request, stream, timeout, verify, cert, proxies)\u001b[0m\n\u001b[0;32m    514\u001b[0m                 \u001b[1;32mraise\u001b[0m \u001b[0mSSLError\u001b[0m\u001b[1;33m(\u001b[0m\u001b[0me\u001b[0m\u001b[1;33m,\u001b[0m \u001b[0mrequest\u001b[0m\u001b[1;33m=\u001b[0m\u001b[0mrequest\u001b[0m\u001b[1;33m)\u001b[0m\u001b[1;33m\u001b[0m\u001b[0m\n\u001b[0;32m    515\u001b[0m \u001b[1;33m\u001b[0m\u001b[0m\n\u001b[1;32m--> 516\u001b[1;33m             \u001b[1;32mraise\u001b[0m \u001b[0mConnectionError\u001b[0m\u001b[1;33m(\u001b[0m\u001b[0me\u001b[0m\u001b[1;33m,\u001b[0m \u001b[0mrequest\u001b[0m\u001b[1;33m=\u001b[0m\u001b[0mrequest\u001b[0m\u001b[1;33m)\u001b[0m\u001b[1;33m\u001b[0m\u001b[0m\n\u001b[0m\u001b[0;32m    517\u001b[0m \u001b[1;33m\u001b[0m\u001b[0m\n\u001b[0;32m    518\u001b[0m         \u001b[1;32mexcept\u001b[0m \u001b[0mClosedPoolError\u001b[0m \u001b[1;32mas\u001b[0m \u001b[0me\u001b[0m\u001b[1;33m:\u001b[0m\u001b[1;33m\u001b[0m\u001b[0m\n",
      "\u001b[1;31mConnectionError\u001b[0m: HTTPSConnectionPool(host='countries.trevorblades.com', port=443): Max retries exceeded with url: / (Caused by NewConnectionError('<urllib3.connection.VerifiedHTTPSConnection object at 0x0000028E55993C50>: Failed to establish a new connection: [Errno 11001] getaddrinfo failed',))"
     ]
    }
   ],
   "source": [
    "from python_graphql_client import GraphqlClient\n",
    "\n",
    "# Instantiate the client with an endpoint.\n",
    "client = GraphqlClient(endpoint=\"https://countries.trevorblades.com\")\n",
    "\n",
    "# Create the query string and variables required for the request.\n",
    "query = \"\"\"\n",
    "    query countryQuery($countryCode: String) {\n",
    "        country(code:$countryCode) {\n",
    "            code\n",
    "            name\n",
    "        }\n",
    "    }\n",
    "\"\"\"\n",
    "variables = {\"countryCode\": \"CA\"}\n",
    "\n",
    "# Synchronous request\n",
    "data = client.execute(query=query, variables=variables)\n",
    "print(data)  # => {'data': {'country': {'code': 'CA', 'name': 'Canada'}}}\n",
    "\n",
    "\n",
    "# Asynchronous request\n",
    "import asyncio\n",
    "\n",
    "data = asyncio.run(client.execute_async(query=query, variables=variables))\n",
    "print(data)  # => {'data': {'country': {'code': 'CA', 'name': 'Canada'}}}"
   ]
  },
  {
   "cell_type": "code",
   "execution_count": 2,
   "metadata": {},
   "outputs": [
    {
     "name": "stdout",
     "output_type": "stream",
     "text": [
      "{'continents': [{'code': 'AF', 'name': 'Africa'}, {'code': 'AN', 'name': 'Antarctica'}, {'code': 'AS', 'name': 'Asia'}, {'code': 'EU', 'name': 'Europe'}, {'code': 'NA', 'name': 'North America'}, {'code': 'OC', 'name': 'Oceania'}, {'code': 'SA', 'name': 'South America'}]}\n"
     ]
    }
   ],
   "source": [
    "from gql import gql, Client, AIOHTTPTransport\n",
    "\n",
    "# Select your transport with a defined url endpoint\n",
    "transport = AIOHTTPTransport(url=\"https://countries.trevorblades.com/\")\n",
    "\n",
    "# Create a GraphQL client using the defined transport\n",
    "client = Client(transport=transport, fetch_schema_from_transport=True)\n",
    "\n",
    "# Provide a GraphQL query\n",
    "query = gql(\n",
    "    \"\"\"\n",
    "    query getContinents {\n",
    "      continents {\n",
    "        code\n",
    "        name\n",
    "      }\n",
    "    }\n",
    "\"\"\"\n",
    ")\n",
    "\n",
    "# Execute the query on the transport\n",
    "result = client.execute(query)\n",
    "print(result)"
   ]
  },
  {
   "cell_type": "code",
   "execution_count": 4,
   "metadata": {},
   "outputs": [
    {
     "name": "stdout",
     "output_type": "stream",
     "text": [
      "{'CountyPriceDetails': [{'commodity': 'Avocado', 'county': 'Nairobi', 'county_code': '47', 'price': 2200.0, 'town': 'Nairobi', 'unit': 'Bag', 'variety': 'HORTICULTURE', 'year_int': 2018}, {'commodity': 'Avocado', 'county': 'Nairobi', 'county_code': '47', 'price': 2200.0, 'town': 'Nairobi', 'unit': 'Bag', 'variety': 'HORTICULTURE', 'year_int': 2018}, {'commodity': 'Avocado', 'county': 'Nairobi', 'county_code': '47', 'price': 2200.0, 'town': 'Nairobi', 'unit': 'Bag', 'variety': 'HORTICULTURE', 'year_int': 2018}, {'commodity': 'Avocado', 'county': 'Nairobi', 'county_code': '47', 'price': 2000.0, 'town': 'Nairobi', 'unit': 'Bag', 'variety': 'HORTICULTURE', 'year_int': 2018}, {'commodity': 'Avocado', 'county': 'Nairobi', 'county_code': '47', 'price': 2200.0, 'town': 'Nairobi', 'unit': 'Bag', 'variety': 'HORTICULTURE', 'year_int': 2018}, {'commodity': 'Avocado', 'county': 'Nairobi', 'county_code': '47', 'price': 2200.0, 'town': 'Nairobi', 'unit': 'Bag', 'variety': 'HORTICULTURE', 'year_int': 2018}, {'commodity': 'Avocado', 'county': 'Kisumu', 'county_code': '42', 'price': 1600.0, 'town': 'Kisumu', 'unit': 'Bag', 'variety': 'HORTICULTURE', 'year_int': 2018}, {'commodity': 'Avocado', 'county': 'Kisumu', 'county_code': '42', 'price': 1500.0, 'town': 'Kisumu', 'unit': 'Bag', 'variety': 'HORTICULTURE', 'year_int': 2018}, {'commodity': 'Avocado', 'county': 'Nairobi', 'county_code': '47', 'price': 2050.0, 'town': 'Nairobi', 'unit': 'Bag', 'variety': 'HORTICULTURE', 'year_int': 2018}, {'commodity': 'Avocado', 'county': 'Nairobi', 'county_code': '47', 'price': 2000.0, 'town': 'Nairobi', 'unit': 'Bag', 'variety': 'HORTICULTURE', 'year_int': 2018}, {'commodity': 'Avocado', 'county': 'Nairobi', 'county_code': '47', 'price': 2200.0, 'town': 'Nairobi', 'unit': 'Bag', 'variety': 'HORTICULTURE', 'year_int': 2018}, {'commodity': 'Avocado', 'county': 'Nairobi', 'county_code': '47', 'price': 2200.0, 'town': 'Nairobi', 'unit': 'Bag', 'variety': 'HORTICULTURE', 'year_int': 2018}, {'commodity': 'Avocado', 'county': 'Kisumu', 'county_code': '42', 'price': 1800.0, 'town': 'Kisumu', 'unit': 'Bag', 'variety': 'HORTICULTURE', 'year_int': 2018}, {'commodity': 'Avocado', 'county': 'Kisumu', 'county_code': '42', 'price': 1600.0, 'town': 'Kisumu', 'unit': 'Bag', 'variety': 'HORTICULTURE', 'year_int': 2018}, {'commodity': 'Avocado', 'county': 'Kisumu', 'county_code': '42', 'price': 1500.0, 'town': 'Kisumu', 'unit': 'Bag', 'variety': 'HORTICULTURE', 'year_int': 2018}, {'commodity': 'Avocado', 'county': 'Kisumu', 'county_code': '42', 'price': 1600.0, 'town': 'Kisumu', 'unit': 'Bag', 'variety': 'HORTICULTURE', 'year_int': 2018}, {'commodity': 'Avocado', 'county': 'Kisumu', 'county_code': '42', 'price': 1600.0, 'town': 'Kisumu', 'unit': 'Bag', 'variety': 'HORTICULTURE', 'year_int': 2018}, {'commodity': 'Avocado', 'county': 'Kisumu', 'county_code': '42', 'price': 1600.0, 'town': 'Kisumu', 'unit': 'Bag', 'variety': 'HORTICULTURE', 'year_int': 2018}, {'commodity': 'Avocado', 'county': 'Kisumu', 'county_code': '42', 'price': 1500.0, 'town': 'Kisumu', 'unit': 'Bag', 'variety': 'HORTICULTURE', 'year_int': 2018}, {'commodity': 'Avocado', 'county': 'Nairobi', 'county_code': '47', 'price': 2200.0, 'town': 'Nairobi', 'unit': 'Bag', 'variety': 'HORTICULTURE', 'year_int': 2018}, {'commodity': 'Avocado', 'county': 'Kisumu', 'county_code': '42', 'price': 1500.0, 'town': 'Kisumu', 'unit': 'Bag', 'variety': 'HORTICULTURE', 'year_int': 2018}, {'commodity': 'Avocado', 'county': 'Nairobi', 'county_code': '47', 'price': 2050.0, 'town': 'Nairobi', 'unit': 'Bag', 'variety': 'HORTICULTURE', 'year_int': 2018}, {'commodity': 'Avocado', 'county': 'Kisumu', 'county_code': '42', 'price': 1800.0, 'town': 'Kisumu', 'unit': 'Bag', 'variety': 'HORTICULTURE', 'year_int': 2018}, {'commodity': 'Avocado', 'county': 'Kisumu', 'county_code': '42', 'price': 1600.0, 'town': 'Kisumu', 'unit': 'Bag', 'variety': 'HORTICULTURE', 'year_int': 2018}, {'commodity': 'Avocado', 'county': 'Mombasa', 'county_code': '1', 'price': 3500.0, 'town': 'Mombasa', 'unit': 'Bag', 'variety': 'HORTICULTURE', 'year_int': 2018}]}\n"
     ]
    }
   ],
   "source": [
    "from gql import gql, Client, AIOHTTPTransport\n",
    "\n",
    "# Select your transport with a defined url endpoint\n",
    "transport = AIOHTTPTransport(url=\"http://localhost:8080/graphql\")\n",
    "\n",
    "# Create a GraphQL client using the defined transport\n",
    "client = Client(transport=transport, fetch_schema_from_transport=True)\n",
    "\n",
    "# Provide a GraphQL query\n",
    "query = gql(\n",
    "    \"\"\"\n",
    "    query CountyPriceDetails {\n",
    "      CountyPriceDetails {\n",
    "        commodity\n",
    "        county\n",
    "        county_code\n",
    "        price\n",
    "        town\n",
    "        unit\n",
    "        variety\n",
    "        year_int\n",
    "      }\n",
    "    }\n",
    "\"\"\"\n",
    ")\n",
    "\n",
    "# Execute the query on the transport\n",
    "result = client.execute(query)\n",
    "print(result)"
   ]
  },
  {
   "cell_type": "code",
   "execution_count": 5,
   "metadata": {},
   "outputs": [
    {
     "name": "stdout",
     "output_type": "stream",
     "text": [
      "{'data': {'CountyPriceDetails': [{'commodity': 'Avocado', 'county': 'Nairobi', 'county_code': '47', 'price': 2200.0, 'town': 'Nairobi', 'unit': 'Bag', 'variety': 'HORTICULTURE', 'year_int': 2018}, {'commodity': 'Avocado', 'county': 'Nairobi', 'county_code': '47', 'price': 2200.0, 'town': 'Nairobi', 'unit': 'Bag', 'variety': 'HORTICULTURE', 'year_int': 2018}, {'commodity': 'Avocado', 'county': 'Nairobi', 'county_code': '47', 'price': 2200.0, 'town': 'Nairobi', 'unit': 'Bag', 'variety': 'HORTICULTURE', 'year_int': 2018}, {'commodity': 'Avocado', 'county': 'Nairobi', 'county_code': '47', 'price': 2000.0, 'town': 'Nairobi', 'unit': 'Bag', 'variety': 'HORTICULTURE', 'year_int': 2018}, {'commodity': 'Avocado', 'county': 'Nairobi', 'county_code': '47', 'price': 2200.0, 'town': 'Nairobi', 'unit': 'Bag', 'variety': 'HORTICULTURE', 'year_int': 2018}, {'commodity': 'Avocado', 'county': 'Nairobi', 'county_code': '47', 'price': 2200.0, 'town': 'Nairobi', 'unit': 'Bag', 'variety': 'HORTICULTURE', 'year_int': 2018}, {'commodity': 'Avocado', 'county': 'Kisumu', 'county_code': '42', 'price': 1600.0, 'town': 'Kisumu', 'unit': 'Bag', 'variety': 'HORTICULTURE', 'year_int': 2018}, {'commodity': 'Avocado', 'county': 'Kisumu', 'county_code': '42', 'price': 1500.0, 'town': 'Kisumu', 'unit': 'Bag', 'variety': 'HORTICULTURE', 'year_int': 2018}, {'commodity': 'Avocado', 'county': 'Nairobi', 'county_code': '47', 'price': 2050.0, 'town': 'Nairobi', 'unit': 'Bag', 'variety': 'HORTICULTURE', 'year_int': 2018}, {'commodity': 'Avocado', 'county': 'Nairobi', 'county_code': '47', 'price': 2000.0, 'town': 'Nairobi', 'unit': 'Bag', 'variety': 'HORTICULTURE', 'year_int': 2018}, {'commodity': 'Avocado', 'county': 'Nairobi', 'county_code': '47', 'price': 2200.0, 'town': 'Nairobi', 'unit': 'Bag', 'variety': 'HORTICULTURE', 'year_int': 2018}, {'commodity': 'Avocado', 'county': 'Nairobi', 'county_code': '47', 'price': 2200.0, 'town': 'Nairobi', 'unit': 'Bag', 'variety': 'HORTICULTURE', 'year_int': 2018}, {'commodity': 'Avocado', 'county': 'Kisumu', 'county_code': '42', 'price': 1800.0, 'town': 'Kisumu', 'unit': 'Bag', 'variety': 'HORTICULTURE', 'year_int': 2018}, {'commodity': 'Avocado', 'county': 'Kisumu', 'county_code': '42', 'price': 1600.0, 'town': 'Kisumu', 'unit': 'Bag', 'variety': 'HORTICULTURE', 'year_int': 2018}, {'commodity': 'Avocado', 'county': 'Kisumu', 'county_code': '42', 'price': 1500.0, 'town': 'Kisumu', 'unit': 'Bag', 'variety': 'HORTICULTURE', 'year_int': 2018}, {'commodity': 'Avocado', 'county': 'Kisumu', 'county_code': '42', 'price': 1600.0, 'town': 'Kisumu', 'unit': 'Bag', 'variety': 'HORTICULTURE', 'year_int': 2018}, {'commodity': 'Avocado', 'county': 'Kisumu', 'county_code': '42', 'price': 1600.0, 'town': 'Kisumu', 'unit': 'Bag', 'variety': 'HORTICULTURE', 'year_int': 2018}, {'commodity': 'Avocado', 'county': 'Kisumu', 'county_code': '42', 'price': 1600.0, 'town': 'Kisumu', 'unit': 'Bag', 'variety': 'HORTICULTURE', 'year_int': 2018}, {'commodity': 'Avocado', 'county': 'Kisumu', 'county_code': '42', 'price': 1500.0, 'town': 'Kisumu', 'unit': 'Bag', 'variety': 'HORTICULTURE', 'year_int': 2018}, {'commodity': 'Avocado', 'county': 'Nairobi', 'county_code': '47', 'price': 2200.0, 'town': 'Nairobi', 'unit': 'Bag', 'variety': 'HORTICULTURE', 'year_int': 2018}, {'commodity': 'Avocado', 'county': 'Kisumu', 'county_code': '42', 'price': 1500.0, 'town': 'Kisumu', 'unit': 'Bag', 'variety': 'HORTICULTURE', 'year_int': 2018}, {'commodity': 'Avocado', 'county': 'Nairobi', 'county_code': '47', 'price': 2050.0, 'town': 'Nairobi', 'unit': 'Bag', 'variety': 'HORTICULTURE', 'year_int': 2018}, {'commodity': 'Avocado', 'county': 'Kisumu', 'county_code': '42', 'price': 1800.0, 'town': 'Kisumu', 'unit': 'Bag', 'variety': 'HORTICULTURE', 'year_int': 2018}, {'commodity': 'Avocado', 'county': 'Kisumu', 'county_code': '42', 'price': 1600.0, 'town': 'Kisumu', 'unit': 'Bag', 'variety': 'HORTICULTURE', 'year_int': 2018}, {'commodity': 'Avocado', 'county': 'Mombasa', 'county_code': '1', 'price': 3500.0, 'town': 'Mombasa', 'unit': 'Bag', 'variety': 'HORTICULTURE', 'year_int': 2018}]}}\n"
     ]
    },
    {
     "ename": "AttributeError",
     "evalue": "module 'asyncio' has no attribute 'run'",
     "output_type": "error",
     "traceback": [
      "\u001b[1;31m---------------------------------------------------------------------------\u001b[0m",
      "\u001b[1;31mAttributeError\u001b[0m                            Traceback (most recent call last)",
      "\u001b[1;32m<ipython-input-5-cf8bdc87d82b>\u001b[0m in \u001b[0;36m<module>\u001b[1;34m()\u001b[0m\n\u001b[0;32m     28\u001b[0m \u001b[1;32mimport\u001b[0m \u001b[0masyncio\u001b[0m\u001b[1;33m\u001b[0m\u001b[0m\n\u001b[0;32m     29\u001b[0m \u001b[1;33m\u001b[0m\u001b[0m\n\u001b[1;32m---> 30\u001b[1;33m \u001b[0mdata\u001b[0m \u001b[1;33m=\u001b[0m \u001b[0masyncio\u001b[0m\u001b[1;33m.\u001b[0m\u001b[0mrun\u001b[0m\u001b[1;33m(\u001b[0m\u001b[0mclient\u001b[0m\u001b[1;33m.\u001b[0m\u001b[0mexecute_async\u001b[0m\u001b[1;33m(\u001b[0m\u001b[0mquery\u001b[0m\u001b[1;33m=\u001b[0m\u001b[0mquery\u001b[0m\u001b[1;33m,\u001b[0m \u001b[0mvariables\u001b[0m\u001b[1;33m=\u001b[0m\u001b[0mvariables\u001b[0m\u001b[1;33m)\u001b[0m\u001b[1;33m)\u001b[0m\u001b[1;33m\u001b[0m\u001b[0m\n\u001b[0m\u001b[0;32m     31\u001b[0m \u001b[0mprint\u001b[0m\u001b[1;33m(\u001b[0m\u001b[0mdata\u001b[0m\u001b[1;33m)\u001b[0m  \u001b[1;31m# => {'data': {'country': {'code': 'CA', 'name': 'Canada'}}}\u001b[0m\u001b[1;33m\u001b[0m\u001b[0m\n",
      "\u001b[1;31mAttributeError\u001b[0m: module 'asyncio' has no attribute 'run'"
     ]
    }
   ],
   "source": [
    "from python_graphql_client import GraphqlClient\n",
    "\n",
    "# Instantiate the client with an endpoint.\n",
    "client = GraphqlClient(endpoint=\"http://localhost:8080/graphql\")\n",
    "\n",
    "# Create the query string and variables required for the request.\n",
    "query = \"\"\"\n",
    "    query CountyPriceDetails {\n",
    "      CountyPriceDetails {\n",
    "        commodity\n",
    "        county\n",
    "        county_code\n",
    "        price\n",
    "        town\n",
    "        unit\n",
    "        variety\n",
    "        year_int\n",
    "      }\n",
    "    }\n",
    "\"\"\"\n",
    "\n",
    "# Synchronous request\n",
    "data = client.execute(query=query)\n",
    "print(data)  # => {'data': {'country': {'code': 'CA', 'name': 'Canada'}}}\n",
    "\n",
    "\n",
    "# Asynchronous request\n",
    "import asyncio\n",
    "\n",
    "data = asyncio.run(client.execute_async(query=query, variables=variables))\n",
    "print(data)  # => {'data': {'country': {'code': 'CA', 'name': 'Canada'}}}"
   ]
  },
  {
   "cell_type": "code",
   "execution_count": 8,
   "metadata": {},
   "outputs": [
    {
     "name": "stdout",
     "output_type": "stream",
     "text": [
      "{'data': {'SukumaPrices': [{'rowno': 48, 'commodity': 'Kales', 'unit': 'Bag', 'kg': '50', 'nairobi': '2600', 'mombasa': '2750', 'kisumu': '2800', 'nakuru': '2600', 'kitale': None, 'average': 2085.0, 'max': 300.0, 'min': 1500.0, 'nafis_price_date': '2012-03-26'}, {'rowno': 48, 'commodity': 'Kales', 'unit': 'Bag', 'kg': '50', 'nairobi': '1080', 'mombasa': '1380', 'kisumu': '1240', 'nakuru': '400', 'kitale': '575', 'average': 753.0, 'max': 900.0, 'min': 1080.0, 'nafis_price_date': '2011-01-02'}, {'rowno': 48, 'commodity': 'Kales', 'unit': 'Bag', 'kg': '50', 'nairobi': '1000', 'mombasa': '1000', 'kisumu': '1200', 'nakuru': '300', 'kitale': None, 'average': 878.0, 'max': 600.0, 'min': 1000.0, 'nafis_price_date': '2012-07-26'}, {'rowno': 50, 'commodity': 'Kales', 'unit': 'Bag', 'kg': '50', 'nairobi': '1500', 'mombasa': '2300', 'kisumu': '2000', 'nakuru': '1900', 'kitale': '1400', 'average': 1657.0, 'max': 700.0, 'min': 1400.0, 'nafis_price_date': '2018-03-09'}, {'rowno': 48, 'commodity': 'Kales', 'unit': 'Bag', 'kg': '50', 'nairobi': '1500', 'mombasa': '2590', 'kisumu': None, 'nakuru': None, 'kitale': '1100', 'average': 1168.0, 'max': 900.0, 'min': 1000.0, 'nafis_price_date': '2012-10-13'}, {'rowno': 48, 'commodity': 'Kales', 'unit': 'Bag', 'kg': '50', 'nairobi': '900', 'mombasa': '1800', 'kisumu': '1492', 'nakuru': '1000', 'kitale': '1500', 'average': 1492.0, 'max': 900.0, 'min': 1000.0, 'nafis_price_date': '2012-06-14'}, {'rowno': 48, 'commodity': 'Kales', 'unit': 'Bag', 'kg': '50', 'nairobi': '1100', 'mombasa': '1400', 'kisumu': '1300', 'nakuru': '500', 'kitale': '600', 'average': 940.0, 'max': 700.0, 'min': 1100.0, 'nafis_price_date': '2012-11-23'}, {'rowno': 48, 'commodity': 'Kales', 'unit': 'Bag', 'kg': '50', 'nairobi': '1000', 'mombasa': '1100', 'kisumu': '1400', 'nakuru': '500', 'kitale': '400', 'average': 1038.0, 'max': 700.0, 'min': 1000.0, 'nafis_price_date': '2012-07-11'}, {'rowno': 48, 'commodity': 'Kales', 'unit': 'Bag', 'kg': '50', 'nairobi': '1200', 'mombasa': '1300', 'kisumu': '1300', 'nakuru': '700', 'kitale': '500', 'average': 950.0, 'max': 700.0, 'min': 1200.0, 'nafis_price_date': '2011-01-27'}, {'rowno': 48, 'commodity': 'Kales', 'unit': 'Bag', 'kg': '50', 'nairobi': '1000', 'mombasa': '3000', 'kisumu': '1300', 'nakuru': '800', 'kitale': None, 'average': 1144.0, 'max': 800.0, 'min': 1000.0, 'nafis_price_date': '2012-10-03'}, {'rowno': 48, 'commodity': 'Kales', 'unit': 'Bag', 'kg': '50', 'nairobi': '1000', 'mombasa': '1700', 'kisumu': '1500', 'nakuru': '400', 'kitale': None, 'average': 1039.0, 'max': 800.0, 'min': 1000.0, 'nafis_price_date': '2012-07-03'}, {'rowno': 48, 'commodity': 'Kales', 'unit': 'Bag', 'kg': '50', 'nairobi': '2700', 'mombasa': '2000', 'kisumu': '2000', 'nakuru': '1500', 'kitale': None, 'average': 1950.0, 'max': 2700.0, 'min': 1000.0, 'nafis_price_date': '2012-04-17'}, {'rowno': 48, 'commodity': 'Kales', 'unit': 'Bag', 'kg': '50', 'nairobi': '1500', 'mombasa': '2800', 'kisumu': '1500', 'nakuru': '1300', 'kitale': '1500', 'average': 1389.0, 'max': 800.0, 'min': 1000.0, 'nafis_price_date': '2012-01-11'}, {'rowno': 48, 'commodity': 'Kales', 'unit': 'Bag', 'kg': '50', 'nairobi': '1000', 'mombasa': '1200', 'kisumu': '1400', 'nakuru': '500', 'kitale': None, 'average': 1086.0, 'max': 800.0, 'min': 1000.0, 'nafis_price_date': '2012-07-10'}, {'rowno': 48, 'commodity': 'Kales', 'unit': 'Bag', 'kg': '50', 'nairobi': '1680', 'mombasa': '1780', 'kisumu': '1500', 'nakuru': '1225', 'kitale': '900', 'average': 1249.0, 'max': 960.0, 'min': 1000.0, 'nafis_price_date': '2012-04-27'}, {'rowno': 48, 'commodity': 'Kales', 'unit': 'Bag', 'kg': '50', 'nairobi': '2660', 'mombasa': '3010', 'kisumu': '3000', 'nakuru': '2660', 'kitale': '1500', 'average': 2074.0, 'max': 3010.0, 'min': 1333.0, 'nafis_price_date': '2012-03-03'}, {'rowno': 50, 'commodity': 'Kales', 'unit': 'Bag', 'kg': '50', 'nairobi': '1250', 'mombasa': '1400', 'kisumu': '800', 'nakuru': '500', 'kitale': '600', 'average': 1056.0, 'max': 800.0, 'min': 1000.0, 'nafis_price_date': '2018-04-04'}, {'rowno': 50, 'commodity': 'Kales', 'unit': 'Bag', 'kg': '50', 'nairobi': '1250', 'mombasa': '1400', 'kisumu': '1200', 'nakuru': '500', 'kitale': None, 'average': 1063.0, 'max': 650.0, 'min': 1000.0, 'nafis_price_date': '2018-04-26'}, {'rowno': 50, 'commodity': 'Kales', 'unit': 'Bag', 'kg': '50', 'nairobi': '1350', 'mombasa': '1900', 'kisumu': '2300', 'nakuru': '1200', 'kitale': '1500', 'average': 1513.0, 'max': 800.0, 'min': 1200.0, 'nafis_price_date': '2018-08-14'}, {'rowno': 50, 'commodity': 'Kales', 'unit': 'Bag', 'kg': '50', 'nairobi': '1200', 'mombasa': '2000', 'kisumu': '2500', 'nakuru': '1000', 'kitale': '2200', 'average': 1714.0, 'max': 2500.0, 'min': 1000.0, 'nafis_price_date': '2018-08-03'}, {'rowno': 50, 'commodity': 'Kales', 'unit': 'Bag', 'kg': '50', 'nairobi': '1200', 'mombasa': '2000', 'kisumu': '2500', 'nakuru': '1000', 'kitale': '1800', 'average': 1500.0, 'max': 800.0, 'min': 1000.0, 'nafis_price_date': '2018-08-06'}, {'rowno': 50, 'commodity': 'Kales', 'unit': 'Bag', 'kg': '50', 'nairobi': '1250', 'mombasa': '1800', 'kisumu': '2500', 'nakuru': '1000', 'kitale': '1800', 'average': 1544.0, 'max': 800.0, 'min': 1000.0, 'nafis_price_date': '2018-08-07'}, {'rowno': 50, 'commodity': 'Kales', 'unit': 'Bag', 'kg': '50', 'nairobi': '1200', 'mombasa': '2250', 'kisumu': '2500', 'nakuru': '1000', 'kitale': '2200', 'average': 1581.0, 'max': 600.0, 'min': 1000.0, 'nafis_price_date': '2018-08-01'}, {'rowno': 48, 'commodity': 'Kales', 'unit': 'Bag', 'kg': '50', 'nairobi': '1100', 'mombasa': '1500', 'kisumu': '1500', 'nakuru': '450', 'kitale': '300', 'average': 983.0, 'max': 800.0, 'min': 1100.0, 'nafis_price_date': '2012-07-06'}, {'rowno': 50, 'commodity': 'Kales', 'unit': 'Bag', 'kg': '50', 'nairobi': '1250', 'mombasa': '2750', 'kisumu': '2500', 'nakuru': '1000', 'kitale': '1500', 'average': 1636.0, 'max': 2750.0, 'min': 1000.0, 'nafis_price_date': '2018-06-13'}, {'rowno': 48, 'commodity': 'Kales', 'unit': 'Bag', 'kg': '50', 'nairobi': '1000', 'mombasa': '1500', 'kisumu': '1200', 'nakuru': '500', 'kitale': '600', 'average': 805.0, 'max': 600.0, 'min': 1000.0, 'nafis_price_date': '2011-12-09'}, {'rowno': 50, 'commodity': 'Kales', 'unit': 'Bag', 'kg': '50', 'nairobi': '1500', 'mombasa': '1650', 'kisumu': '1200', 'nakuru': '600', 'kitale': '70', 'average': 3190.0, 'max': 70.0, 'min': 1200.0, 'nafis_price_date': '2018-10-22'}, {'rowno': 50, 'commodity': 'Kales', 'unit': 'Bag', 'kg': '50', 'nairobi': '1250', 'mombasa': '1550', 'kisumu': '1200', 'nakuru': '800', 'kitale': '900', 'average': 1072.0, 'max': 900.0, 'min': 1200.0, 'nafis_price_date': '2018-03-27'}, {'rowno': 48, 'commodity': 'Kales', 'unit': 'Bag', 'kg': '50', 'nairobi': '1200', 'mombasa': '2500', 'kisumu': '2000', 'nakuru': '900', 'kitale': '2000', 'average': 1490.0, 'max': 900.0, 'min': 1200.0, 'nafis_price_date': '2012-05-14'}, {'rowno': 50, 'commodity': 'Kales', 'unit': 'Bag', 'kg': '50', 'nairobi': '1200', 'mombasa': '1800', 'kisumu': '1300', 'nakuru': '700', 'kitale': None, 'average': 1229.0, 'max': 700.0, 'min': 1150.0, 'nafis_price_date': '2018-04-24'}]}}\n"
     ]
    }
   ],
   "source": [
    "from python_graphql_client import GraphqlClient\n",
    "\n",
    "# Instantiate the client with an endpoint.\n",
    "client = GraphqlClient(endpoint=\"http://localhost:8080/graphql\")\n",
    "\n",
    "# Create the query string and variables required for the request.\n",
    "query = \"\"\"\n",
    "    query SukumaPrices($commodity: String) {\n",
    "      SukumaPrices(commodity: $commodity) {\n",
    "        rowno\n",
    "        commodity\n",
    "        unit\n",
    "        kg\n",
    "        nairobi\n",
    "        mombasa\n",
    "        kisumu\n",
    "        nakuru\n",
    "        kitale\n",
    "        average\n",
    "        max\n",
    "        min\n",
    "        nafis_price_date\n",
    "      }\n",
    "    }\n",
    "\n",
    "\"\"\"\n",
    "\n",
    "variables = {\"commodity\": \"Kales\"}\n",
    "\n",
    "# Synchronous request\n",
    "data = client.execute(query=query, variables=variables)\n",
    "print(data)  # => {'data': {'country': {'code': 'CA', 'name': 'Canada'}}}\n",
    "\n"
   ]
  },
  {
   "cell_type": "code",
   "execution_count": null,
   "metadata": {},
   "outputs": [],
   "source": []
  }
 ],
 "metadata": {
  "kernelspec": {
   "display_name": "Python 3",
   "language": "python",
   "name": "python3"
  },
  "language_info": {
   "codemirror_mode": {
    "name": "ipython",
    "version": 3
   },
   "file_extension": ".py",
   "mimetype": "text/x-python",
   "name": "python",
   "nbconvert_exporter": "python",
   "pygments_lexer": "ipython3",
   "version": "3.6.4"
  }
 },
 "nbformat": 4,
 "nbformat_minor": 2
}
