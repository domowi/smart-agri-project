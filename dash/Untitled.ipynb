{
 "cells": [
  {
   "cell_type": "code",
   "execution_count": null,
   "metadata": {},
   "outputs": [],
   "source": [
    "from gql import gql, AIOHTTPTransport, Client\n",
    "import asyncio\n",
    "\n",
    "async def main():\n",
    "\n",
    "    transport = AIOHTTPTransport(url='https://countries.trevorblades.com/graphql')\n",
    "\n",
    "    # Using `async with` on the client will start a connection on the transport\n",
    "    # and provide a `session` variable to execute queries on this connection\n",
    "    async with Client(\n",
    "        transport=transport,\n",
    "        fetch_schema_from_transport=True,\n",
    "        ) as session:\n",
    "\n",
    "        # Execute single query\n",
    "        query = gql('''\n",
    "            query getContinents {\n",
    "              continents {\n",
    "                code\n",
    "                name\n",
    "              }\n",
    "            }\n",
    "        ''')\n",
    "\n",
    "        result = await session.execute(query)\n",
    "        print(result)\n",
    "\n",
    "asyncio.run(main())"
   ]
  }
 ],
 "metadata": {
  "kernelspec": {
   "display_name": "Python 3",
   "language": "python",
   "name": "python3"
  },
  "language_info": {
   "codemirror_mode": {
    "name": "ipython",
    "version": 3
   },
   "file_extension": ".py",
   "mimetype": "text/x-python",
   "name": "python",
   "nbconvert_exporter": "python",
   "pygments_lexer": "ipython3",
   "version": "3.6.4"
  },
  "toc": {
   "base_numbering": 1,
   "nav_menu": {},
   "number_sections": true,
   "sideBar": true,
   "skip_h1_title": false,
   "title_cell": "Table of Contents",
   "title_sidebar": "Contents",
   "toc_cell": false,
   "toc_position": {},
   "toc_section_display": true,
   "toc_window_display": false
  }
 },
 "nbformat": 4,
 "nbformat_minor": 2
}
