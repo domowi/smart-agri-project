{
 "cells": [
  {
   "cell_type": "code",
   "execution_count": 1,
   "metadata": {},
   "outputs": [
    {
     "data": {
      "application/vnd.jupyter.widget-view+json": {
       "model_id": "37d990442c9c4fe3938c2a85af1b2d7c",
       "version_major": 2,
       "version_minor": 0
      },
      "text/plain": [
       "FigureWidget({\n",
       "    'data': [{'nbinsx': 10,\n",
       "              'type': 'histogram',\n",
       "              'uid': 'bc375441-d…"
      ]
     },
     "metadata": {},
     "output_type": "display_data"
    }
   ],
   "source": [
    "# installation guide:\n",
    "# # plotly: please refer to the official plotly.py repository\n",
    "# https://github.com/plotly/plotly.py#installation\n",
    "# # numpy: you can install it via the terminal using\n",
    "# pip install numpy\n",
    "\n",
    "\n",
    "import plotly.graph_objs as go\n",
    "import numpy as np\n",
    "\n",
    "\n",
    "x_values = np.random.randn(5000)\n",
    "figure = go.FigureWidget(data=[go.Histogram(x=x_values, nbinsx=10)], layout=go.Layout(xaxis={'range': [-4, 4]}, bargap=0.05))\n",
    "histogram = figure.data[0]\n",
    "\n",
    "def adjust_histogram_data(xaxis, xrange):\n",
    "    x_values_subset = x_values[np.logical_and(xrange[0] <= x_values, x_values <= xrange[1])]\n",
    "    histogram.x = x_values_subset\n",
    "figure.layout.xaxis.on_change(adjust_histogram_data, 'range')\n",
    "\n",
    "\n",
    "display(figure)  # show the figure in the cell output"
   ]
  },
  {
   "cell_type": "code",
   "execution_count": 2,
   "metadata": {
    "lines_to_next_cell": 2
   },
   "outputs": [
    {
     "data": {
      "application/vnd.jupyter.widget-view+json": {
       "model_id": "73c47c3ebeb843be9da8bfadeef067b2",
       "version_major": 2,
       "version_minor": 0
      },
      "text/plain": [
       "FigureWidget({\n",
       "    'data': [{'nbinsx': 10,\n",
       "              'type': 'histogram',\n",
       "              'uid': 'ea955b0d-3…"
      ]
     },
     "metadata": {},
     "output_type": "display_data"
    }
   ],
   "source": [
    "# default plotly histogram, so that you can compare the output\n",
    "default_histogram = go.FigureWidget([go.Histogram(x=x_values, nbinsx=10)], go.Layout(xaxis={'range': [-4, 4]}, bargap=0.05))\n",
    "display(default_histogram)"
   ]
  },
  {
   "cell_type": "code",
   "execution_count": null,
   "metadata": {},
   "outputs": [],
   "source": []
  }
 ],
 "metadata": {
  "jupytext": {
   "main_language": "python",
   "metadata_filter": {
    "cells": {
     "excluded": "all"
    },
    "notebook": {
     "excluded": "all"
    }
   },
   "text_representation": {
    "extension": ".py",
    "format_name": "percent",
    "format_version": "1.2",
    "jupytext_version": "0.8.6"
   }
  },
  "kernelspec": {
   "display_name": "Python 3",
   "language": "python",
   "name": "python3"
  },
  "language_info": {
   "codemirror_mode": {
    "name": "ipython",
    "version": 3
   },
   "file_extension": ".py",
   "mimetype": "text/x-python",
   "name": "python",
   "nbconvert_exporter": "python",
   "pygments_lexer": "ipython3",
   "version": "3.6.5"
  }
 },
 "nbformat": 4,
 "nbformat_minor": 2
}
